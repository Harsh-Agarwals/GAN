{
 "cells": [
  {
   "cell_type": "code",
   "execution_count": 1,
   "id": "839667b7",
   "metadata": {},
   "outputs": [],
   "source": [
    "import torch\n",
    "import torchvision\n",
    "from torchvision.transforms import ToTensor\n",
    "from torch import nn\n",
    "\n",
    "from torch.utils.data import DataLoader\n",
    "import matplotlib.pyplot as plt\n",
    "\n",
    "import os\n",
    "\n",
    "import warnings\n",
    "warnings.filterwarnings('ignore')"
   ]
  },
  {
   "cell_type": "code",
   "execution_count": 2,
   "id": "784f3b15",
   "metadata": {},
   "outputs": [
    {
     "data": {
      "text/plain": [
       "(Dataset MNIST\n",
       "     Number of datapoints: 60000\n",
       "     Root location: data\n",
       "     Split: Train\n",
       "     StandardTransform\n",
       " Transform: ToTensor(),\n",
       " Dataset MNIST\n",
       "     Number of datapoints: 10000\n",
       "     Root location: data\n",
       "     Split: Test\n",
       "     StandardTransform\n",
       " Transform: ToTensor())"
      ]
     },
     "execution_count": 2,
     "metadata": {},
     "output_type": "execute_result"
    }
   ],
   "source": [
    "transform = ToTensor()\n",
    "\n",
    "mnist_train = torchvision.datasets.MNIST(root=\"data\", train=True, transform=transform, target_transform=None, download=True)\n",
    "mnist_test = torchvision.datasets.MNIST(root=\"data\", train=False, transform=transform, target_transform=None, download=True)\n",
    "\n",
    "mnist_train, mnist_test"
   ]
  },
  {
   "cell_type": "code",
   "execution_count": 3,
   "id": "f9240b35",
   "metadata": {},
   "outputs": [
    {
     "data": {
      "text/plain": [
       "(<torch.utils.data.dataloader.DataLoader at 0x15438ea50>,\n",
       " <torch.utils.data.dataloader.DataLoader at 0x1543720d0>)"
      ]
     },
     "execution_count": 3,
     "metadata": {},
     "output_type": "execute_result"
    }
   ],
   "source": [
    "train_DataLoader = DataLoader(dataset=mnist_train, batch_size=32, shuffle=True)\n",
    "test_DataLoader = DataLoader(dataset=mnist_test, batch_size=32, shuffle=True)\n",
    "\n",
    "train_DataLoader, test_DataLoader"
   ]
  },
  {
   "cell_type": "code",
   "execution_count": 4,
   "id": "2ae95d86",
   "metadata": {},
   "outputs": [
    {
     "data": {
      "text/plain": [
       "'mps'"
      ]
     },
     "execution_count": 4,
     "metadata": {},
     "output_type": "execute_result"
    }
   ],
   "source": [
    "device = \"cuda\" if torch.cuda.is_available() else \"mps\" if torch.backends.mps.is_available() else \"cpu\"\n",
    "device"
   ]
  },
  {
   "cell_type": "code",
   "execution_count": 5,
   "id": "9389c328",
   "metadata": {},
   "outputs": [
    {
     "data": {
      "text/plain": [
       "(LinearVAE(\n",
       "   (base_encode): Sequential(\n",
       "     (0): Linear(in_features=784, out_features=128, bias=True)\n",
       "     (1): ReLU()\n",
       "     (2): BatchNorm1d(128, eps=1e-05, momentum=0.1, affine=True, track_running_stats=True)\n",
       "     (3): Linear(in_features=128, out_features=256, bias=True)\n",
       "     (4): ReLU()\n",
       "     (5): BatchNorm1d(256, eps=1e-05, momentum=0.1, affine=True, track_running_stats=True)\n",
       "   )\n",
       "   (fc_mu): Linear(in_features=256, out_features=64, bias=True)\n",
       "   (fc_logvar): Linear(in_features=256, out_features=64, bias=True)\n",
       "   (base_decode): Sequential(\n",
       "     (0): Linear(in_features=64, out_features=128, bias=True)\n",
       "     (1): ReLU()\n",
       "     (2): BatchNorm1d(128, eps=1e-05, momentum=0.1, affine=True, track_running_stats=True)\n",
       "     (3): Linear(in_features=128, out_features=256, bias=True)\n",
       "     (4): ReLU()\n",
       "     (5): BatchNorm1d(256, eps=1e-05, momentum=0.1, affine=True, track_running_stats=True)\n",
       "     (6): Linear(in_features=256, out_features=784, bias=True)\n",
       "   )\n",
       " ),\n",
       " device(type='mps', index=0),\n",
       " 410768)"
      ]
     },
     "execution_count": 5,
     "metadata": {},
     "output_type": "execute_result"
    }
   ],
   "source": [
    "class LinearVAE(nn.Module):\n",
    "    def __init__(self, input_features, encoder_hidden, latent_dim, decoder_hidden):\n",
    "        super().__init__()\n",
    "\n",
    "        self.base_encode = nn.Sequential(\n",
    "            nn.Linear(in_features=input_features, out_features=encoder_hidden),\n",
    "            nn.ReLU(),\n",
    "            nn.BatchNorm1d(encoder_hidden),\n",
    "            nn.Linear(in_features=encoder_hidden, out_features=encoder_hidden*2),\n",
    "            nn.ReLU(),\n",
    "            nn.BatchNorm1d(encoder_hidden*2)\n",
    "        )\n",
    "\n",
    "        self.fc_mu = nn.Linear(in_features=encoder_hidden*2, out_features=latent_dim)\n",
    "        self.fc_logvar = nn.Linear(in_features=encoder_hidden*2, out_features=latent_dim)\n",
    "\n",
    "        self.base_decode = nn.Sequential(\n",
    "            nn.Linear(in_features=latent_dim, out_features=decoder_hidden),\n",
    "            nn.ReLU(),\n",
    "            nn.BatchNorm1d(decoder_hidden),\n",
    "            nn.Linear(in_features=decoder_hidden, out_features=decoder_hidden*2),\n",
    "            nn.ReLU(),\n",
    "            nn.BatchNorm1d(decoder_hidden*2),\n",
    "            nn.Linear(in_features=decoder_hidden*2, out_features=input_features),\n",
    "            # nn.Sigmoid()\n",
    "        )\n",
    "\n",
    "    def encoder(self, x: torch.Tensor) -> torch.Tensor:\n",
    "        batch_size = x.shape[0]\n",
    "        x = x.view(batch_size, -1)\n",
    "        fc = self.base_encode(x)\n",
    "        mu = self.fc_mu(fc)\n",
    "        logvar = self.fc_logvar(fc)\n",
    "        \n",
    "        # mu = torch.clamp(mu, min=-10, max=10)\n",
    "        # logvar = torch.clamp(logvar, min=-10, max=10)\n",
    "\n",
    "        std = torch.exp(0.5 * logvar)\n",
    "        eps = torch.randn_like(std)\n",
    "        z = mu + std*eps\n",
    "        return z, mu, logvar\n",
    "    \n",
    "    def decoder(self, z: torch.Tensor) -> torch.Tensor:\n",
    "        return self.base_decode(z)\n",
    "    \n",
    "    def forward(self, x: torch.Tensor) -> torch.Tensor:\n",
    "        z, mu, logvar = self.encoder(x)\n",
    "        output = self.decoder(z)\n",
    "        output = torch.clamp(output, min=-10, max=10)\n",
    "        return output, mu, logvar\n",
    "    \n",
    "model1 = LinearVAE(input_features=28*28, encoder_hidden=128, latent_dim=64, decoder_hidden=128)\n",
    "model1.to(device=device)\n",
    "\n",
    "model1, next(model1.parameters()).device, sum(torch.numel(i) for i in model1.parameters() if i.requires_grad)"
   ]
  },
  {
   "cell_type": "code",
   "execution_count": 6,
   "id": "75689a1f",
   "metadata": {},
   "outputs": [
    {
     "data": {
      "text/plain": [
       "============================================================================================================================================\n",
       "Layer (type:depth-idx)                   Input Shape               Output Shape              Param #                   Trainable\n",
       "============================================================================================================================================\n",
       "LinearVAE                                [32, 1, 28, 28]           [32, 784]                 --                        True\n",
       "├─Sequential: 1-1                        [32, 784]                 [32, 256]                 --                        True\n",
       "│    └─Linear: 2-1                       [32, 784]                 [32, 128]                 100,480                   True\n",
       "│    └─ReLU: 2-2                         [32, 128]                 [32, 128]                 --                        --\n",
       "│    └─BatchNorm1d: 2-3                  [32, 128]                 [32, 128]                 256                       True\n",
       "│    └─Linear: 2-4                       [32, 128]                 [32, 256]                 33,024                    True\n",
       "│    └─ReLU: 2-5                         [32, 256]                 [32, 256]                 --                        --\n",
       "│    └─BatchNorm1d: 2-6                  [32, 256]                 [32, 256]                 512                       True\n",
       "├─Linear: 1-2                            [32, 256]                 [32, 64]                  16,448                    True\n",
       "├─Linear: 1-3                            [32, 256]                 [32, 64]                  16,448                    True\n",
       "├─Sequential: 1-4                        [32, 64]                  [32, 784]                 --                        True\n",
       "│    └─Linear: 2-7                       [32, 64]                  [32, 128]                 8,320                     True\n",
       "│    └─ReLU: 2-8                         [32, 128]                 [32, 128]                 --                        --\n",
       "│    └─BatchNorm1d: 2-9                  [32, 128]                 [32, 128]                 256                       True\n",
       "│    └─Linear: 2-10                      [32, 128]                 [32, 256]                 33,024                    True\n",
       "│    └─ReLU: 2-11                        [32, 256]                 [32, 256]                 --                        --\n",
       "│    └─BatchNorm1d: 2-12                 [32, 256]                 [32, 256]                 512                       True\n",
       "│    └─Linear: 2-13                      [32, 256]                 [32, 784]                 201,488                   True\n",
       "============================================================================================================================================\n",
       "Total params: 410,768\n",
       "Trainable params: 410,768\n",
       "Non-trainable params: 0\n",
       "Total mult-adds (Units.MEGABYTES): 13.14\n",
       "============================================================================================================================================\n",
       "Input size (MB): 0.10\n",
       "Forward/backward pass size (MB): 0.63\n",
       "Params size (MB): 1.64\n",
       "Estimated Total Size (MB): 2.37\n",
       "============================================================================================================================================"
      ]
     },
     "execution_count": 6,
     "metadata": {},
     "output_type": "execute_result"
    }
   ],
   "source": [
    "from torchinfo import summary\n",
    "\n",
    "summary(model=model1, input_size=(32, 1, 28, 28), col_names=[\"input_size\", \"output_size\", \"num_params\", \"trainable\"])"
   ]
  },
  {
   "cell_type": "code",
   "execution_count": 7,
   "id": "27e8aa72",
   "metadata": {},
   "outputs": [
    {
     "data": {
      "text/plain": [
       "(<function __main__.loss_fn(x, x_hat, mu, logvar, kl_weight=1)>,\n",
       " Adam (\n",
       " Parameter Group 0\n",
       "     amsgrad: False\n",
       "     betas: (0.9, 0.999)\n",
       "     capturable: False\n",
       "     differentiable: False\n",
       "     eps: 1e-08\n",
       "     foreach: None\n",
       "     fused: None\n",
       "     lr: 0.0001\n",
       "     maximize: False\n",
       "     weight_decay: 0\n",
       " ))"
      ]
     },
     "execution_count": 7,
     "metadata": {},
     "output_type": "execute_result"
    }
   ],
   "source": [
    "def loss_fn(x, x_hat, mu, logvar, kl_weight=1):\n",
    "    BCE = nn.functional.binary_cross_entropy_with_logits(x_hat, x, reduction='mean')\n",
    "    KLD = -0.5*torch.mean(1 + logvar - mu.pow(2) - logvar.exp()) / x.shape[0]\n",
    "    return BCE + KLD*kl_weight, BCE, KLD\n",
    "\n",
    "optimizer = torch.optim.Adam(params=model1.parameters(), lr=1e-4)\n",
    "\n",
    "loss_fn, optimizer"
   ]
  },
  {
   "cell_type": "code",
   "execution_count": 8,
   "id": "c1874d00",
   "metadata": {},
   "outputs": [
    {
     "name": "stderr",
     "output_type": "stream",
     "text": [
      "  0%|          | 0/10 [00:00<?, ?it/s]"
     ]
    },
    {
     "name": "stdout",
     "output_type": "stream",
     "text": [
      "Batch 0, mu: 2.225846529006958, logvar: 2.0349314212799072, training batch loss: 0.74, bce: 0.73, kld: 0.01\n",
      "Batch 100, mu: 2.5760977268218994, logvar: 1.530609130859375, training batch loss: 0.71, bce: 0.70, kld: 0.01\n",
      "Batch 200, mu: 3.1227381229400635, logvar: 1.2402260303497314, training batch loss: 0.67, bce: 0.66, kld: 0.01\n",
      "Batch 300, mu: 3.4733335971832275, logvar: 1.017998218536377, training batch loss: 0.63, bce: 0.62, kld: 0.01\n",
      "Batch 400, mu: 2.9858789443969727, logvar: 1.0552681684494019, training batch loss: 0.56, bce: 0.55, kld: 0.01\n",
      "Batch 500, mu: 3.4772629737854004, logvar: 0.8470023274421692, training batch loss: 0.49, bce: 0.48, kld: 0.01\n",
      "Batch 600, mu: 2.984009265899658, logvar: 0.8240256309509277, training batch loss: 0.41, bce: 0.40, kld: 0.01\n",
      "Batch 700, mu: 2.8016817569732666, logvar: 1.0689798593521118, training batch loss: 0.35, bce: 0.34, kld: 0.01\n",
      "Batch 800, mu: 2.9023938179016113, logvar: 0.7761478424072266, training batch loss: 0.31, bce: 0.30, kld: 0.01\n",
      "Batch 900, mu: 3.0367391109466553, logvar: 0.679997444152832, training batch loss: 0.28, bce: 0.27, kld: 0.01\n",
      "Batch 1000, mu: 3.362630844116211, logvar: 0.6363544464111328, training batch loss: 0.25, bce: 0.24, kld: 0.01\n",
      "Batch 1100, mu: 3.3299179077148438, logvar: 0.9005627036094666, training batch loss: 0.25, bce: 0.23, kld: 0.01\n",
      "Batch 1200, mu: 2.87215256690979, logvar: 0.5116934776306152, training batch loss: 0.23, bce: 0.22, kld: 0.01\n",
      "Batch 1300, mu: 3.077209949493408, logvar: 0.5376438498497009, training batch loss: 0.22, bce: 0.21, kld: 0.01\n",
      "Batch 1400, mu: 2.664095878601074, logvar: 0.3360825777053833, training batch loss: 0.21, bce: 0.20, kld: 0.01\n",
      "Batch 1500, mu: 2.94880747795105, logvar: 0.4103519916534424, training batch loss: 0.20, bce: 0.19, kld: 0.01\n",
      "Batch 1600, mu: 2.865445852279663, logvar: 0.5199987888336182, training batch loss: 0.20, bce: 0.19, kld: 0.01\n",
      "Batch 1700, mu: 3.147221088409424, logvar: 0.2890104651451111, training batch loss: 0.21, bce: 0.19, kld: 0.01\n",
      "Batch 1800, mu: 2.632967948913574, logvar: 0.40935805439949036, training batch loss: 0.17, bce: 0.16, kld: 0.01\n"
     ]
    },
    {
     "name": "stderr",
     "output_type": "stream",
     "text": [
      " 10%|█         | 1/10 [00:17<02:38, 17.64s/it]"
     ]
    },
    {
     "name": "stdout",
     "output_type": "stream",
     "text": [
      "Epoch: 0, Train Loss: 0.36025720834732056, Test Loss: 0.18197248876094818\n"
     ]
    },
    {
     "name": "stderr",
     "output_type": "stream",
     "text": [
      " 20%|██        | 2/10 [00:35<02:20, 17.58s/it]"
     ]
    },
    {
     "name": "stdout",
     "output_type": "stream",
     "text": [
      "Batch 0, mu: 2.7433664798736572, logvar: -0.03834749758243561, training batch loss: 0.15, bce: 0.14, kld: 0.02\n",
      "Batch 100, mu: 2.7114603519439697, logvar: 0.12649492919445038, training batch loss: 0.17, bce: 0.15, kld: 0.02\n",
      "Batch 200, mu: 2.9242825508117676, logvar: -0.05541339889168739, training batch loss: 0.18, bce: 0.17, kld: 0.02\n",
      "Batch 300, mu: 2.800508975982666, logvar: -0.046452417969703674, training batch loss: 0.17, bce: 0.15, kld: 0.02\n",
      "Batch 400, mu: 3.855433464050293, logvar: 0.1807423233985901, training batch loss: 0.16, bce: 0.15, kld: 0.02\n",
      "Batch 500, mu: 3.4008350372314453, logvar: 0.010913573205471039, training batch loss: 0.16, bce: 0.14, kld: 0.02\n",
      "Batch 600, mu: 3.3879177570343018, logvar: 0.13568726181983948, training batch loss: 0.16, bce: 0.14, kld: 0.02\n",
      "Batch 700, mu: 2.5616259574890137, logvar: -0.09667807817459106, training batch loss: 0.15, bce: 0.13, kld: 0.02\n",
      "Batch 800, mu: 3.120314359664917, logvar: -0.014690086245536804, training batch loss: 0.16, bce: 0.14, kld: 0.02\n",
      "Batch 900, mu: 2.7139463424682617, logvar: -0.05083198472857475, training batch loss: 0.15, bce: 0.13, kld: 0.02\n",
      "Batch 1000, mu: 2.693246603012085, logvar: 0.11878841370344162, training batch loss: 0.16, bce: 0.14, kld: 0.02\n",
      "Batch 1100, mu: 3.00799822807312, logvar: -0.0012929774820804596, training batch loss: 0.15, bce: 0.13, kld: 0.02\n",
      "Batch 1200, mu: 3.803293466567993, logvar: -0.007047668099403381, training batch loss: 0.16, bce: 0.14, kld: 0.02\n",
      "Batch 1300, mu: 3.612968683242798, logvar: -0.0021703094244003296, training batch loss: 0.15, bce: 0.13, kld: 0.02\n",
      "Batch 1400, mu: 3.204662561416626, logvar: 0.07813044637441635, training batch loss: 0.15, bce: 0.13, kld: 0.02\n",
      "Batch 1500, mu: 3.147059202194214, logvar: 0.07680651545524597, training batch loss: 0.16, bce: 0.14, kld: 0.02\n",
      "Batch 1600, mu: 3.3894119262695312, logvar: 0.1325085312128067, training batch loss: 0.15, bce: 0.13, kld: 0.02\n",
      "Batch 1700, mu: 3.3215243816375732, logvar: -0.03865990787744522, training batch loss: 0.15, bce: 0.13, kld: 0.02\n",
      "Batch 1800, mu: 2.8274452686309814, logvar: 0.07277870923280716, training batch loss: 0.14, bce: 0.12, kld: 0.02\n"
     ]
    },
    {
     "name": "stderr",
     "output_type": "stream",
     "text": [
      " 30%|███       | 3/10 [00:53<02:03, 17.71s/it]"
     ]
    },
    {
     "name": "stdout",
     "output_type": "stream",
     "text": [
      "Epoch: 2, Train Loss: 0.1576785445213318, Test Loss: 0.14431899785995483\n"
     ]
    },
    {
     "name": "stderr",
     "output_type": "stream",
     "text": [
      " 40%|████      | 4/10 [01:11<01:47, 17.99s/it]"
     ]
    },
    {
     "name": "stdout",
     "output_type": "stream",
     "text": [
      "Batch 0, mu: 3.489757537841797, logvar: 0.13542640209197998, training batch loss: 0.14, bce: 0.12, kld: 0.02\n",
      "Batch 100, mu: 3.643688440322876, logvar: 0.14142832159996033, training batch loss: 0.14, bce: 0.12, kld: 0.02\n",
      "Batch 200, mu: 3.538956880569458, logvar: 0.11066964268684387, training batch loss: 0.15, bce: 0.14, kld: 0.02\n",
      "Batch 300, mu: 2.9524965286254883, logvar: 0.10720561444759369, training batch loss: 0.16, bce: 0.14, kld: 0.02\n",
      "Batch 400, mu: 2.734302043914795, logvar: 0.22776591777801514, training batch loss: 0.13, bce: 0.11, kld: 0.02\n",
      "Batch 500, mu: 3.0497817993164062, logvar: 0.14111393690109253, training batch loss: 0.13, bce: 0.11, kld: 0.02\n",
      "Batch 600, mu: 3.43347430229187, logvar: 0.21406689286231995, training batch loss: 0.16, bce: 0.14, kld: 0.02\n",
      "Batch 700, mu: 2.84834623336792, logvar: 0.16468310356140137, training batch loss: 0.14, bce: 0.12, kld: 0.02\n",
      "Batch 800, mu: 2.9799954891204834, logvar: 0.14992858469486237, training batch loss: 0.14, bce: 0.12, kld: 0.02\n",
      "Batch 900, mu: 3.7592713832855225, logvar: 0.21682539582252502, training batch loss: 0.13, bce: 0.11, kld: 0.02\n",
      "Batch 1000, mu: 3.417670965194702, logvar: 0.08601928502321243, training batch loss: 0.15, bce: 0.13, kld: 0.02\n",
      "Batch 1100, mu: 3.5713164806365967, logvar: 0.045838862657547, training batch loss: 0.15, bce: 0.13, kld: 0.02\n",
      "Batch 1200, mu: 3.2888412475585938, logvar: 0.11922526359558105, training batch loss: 0.15, bce: 0.13, kld: 0.02\n",
      "Batch 1300, mu: 2.899130344390869, logvar: 0.1278393268585205, training batch loss: 0.14, bce: 0.12, kld: 0.02\n",
      "Batch 1400, mu: 3.562910795211792, logvar: 0.08435526490211487, training batch loss: 0.13, bce: 0.11, kld: 0.02\n",
      "Batch 1500, mu: 2.824601411819458, logvar: 0.03549987077713013, training batch loss: 0.14, bce: 0.12, kld: 0.02\n",
      "Batch 1600, mu: 3.406226634979248, logvar: 0.13184069097042084, training batch loss: 0.14, bce: 0.12, kld: 0.02\n",
      "Batch 1700, mu: 3.131687879562378, logvar: 0.1366090178489685, training batch loss: 0.15, bce: 0.13, kld: 0.02\n",
      "Batch 1800, mu: 2.918978214263916, logvar: 0.1498318910598755, training batch loss: 0.14, bce: 0.12, kld: 0.02\n"
     ]
    },
    {
     "name": "stderr",
     "output_type": "stream",
     "text": [
      " 50%|█████     | 5/10 [01:29<01:29, 17.94s/it]"
     ]
    },
    {
     "name": "stdout",
     "output_type": "stream",
     "text": [
      "Epoch: 4, Train Loss: 0.14290989935398102, Test Loss: 0.1315361112356186\n"
     ]
    },
    {
     "name": "stderr",
     "output_type": "stream",
     "text": [
      " 60%|██████    | 6/10 [01:47<01:11, 17.85s/it]"
     ]
    },
    {
     "name": "stdout",
     "output_type": "stream",
     "text": [
      "Batch 0, mu: 2.968425989151001, logvar: 0.07661024481058121, training batch loss: 0.13, bce: 0.11, kld: 0.02\n",
      "Batch 100, mu: 3.3772337436676025, logvar: 0.12424283474683762, training batch loss: 0.14, bce: 0.12, kld: 0.02\n",
      "Batch 200, mu: 2.895521402359009, logvar: 0.12436184287071228, training batch loss: 0.14, bce: 0.12, kld: 0.02\n",
      "Batch 300, mu: 3.3301949501037598, logvar: 0.1271112710237503, training batch loss: 0.14, bce: 0.12, kld: 0.02\n",
      "Batch 400, mu: 3.2726681232452393, logvar: 0.13539227843284607, training batch loss: 0.13, bce: 0.11, kld: 0.02\n",
      "Batch 500, mu: 2.9133388996124268, logvar: 0.11115479469299316, training batch loss: 0.13, bce: 0.11, kld: 0.02\n",
      "Batch 600, mu: 3.0748422145843506, logvar: 0.16614654660224915, training batch loss: 0.14, bce: 0.12, kld: 0.02\n",
      "Batch 700, mu: 2.916876792907715, logvar: 0.1329788714647293, training batch loss: 0.13, bce: 0.11, kld: 0.02\n",
      "Batch 800, mu: 3.635364532470703, logvar: 0.1128651350736618, training batch loss: 0.13, bce: 0.11, kld: 0.02\n",
      "Batch 900, mu: 3.216539144515991, logvar: 0.1291118562221527, training batch loss: 0.14, bce: 0.12, kld: 0.02\n",
      "Batch 1000, mu: 2.947117567062378, logvar: 0.19186264276504517, training batch loss: 0.15, bce: 0.13, kld: 0.02\n",
      "Batch 1100, mu: 2.9904983043670654, logvar: 0.1469782292842865, training batch loss: 0.14, bce: 0.12, kld: 0.02\n",
      "Batch 1200, mu: 3.754615306854248, logvar: 0.10747471451759338, training batch loss: 0.13, bce: 0.11, kld: 0.02\n",
      "Batch 1300, mu: 4.156152725219727, logvar: 0.14264574646949768, training batch loss: 0.13, bce: 0.11, kld: 0.02\n",
      "Batch 1400, mu: 3.683570623397827, logvar: 0.13200655579566956, training batch loss: 0.13, bce: 0.11, kld: 0.02\n",
      "Batch 1500, mu: 3.2936370372772217, logvar: 0.11878223717212677, training batch loss: 0.13, bce: 0.11, kld: 0.02\n",
      "Batch 1600, mu: 3.4755301475524902, logvar: 0.1785757839679718, training batch loss: 0.12, bce: 0.10, kld: 0.02\n",
      "Batch 1700, mu: 2.8615305423736572, logvar: 0.2510685920715332, training batch loss: 0.15, bce: 0.13, kld: 0.02\n",
      "Batch 1800, mu: 2.976897954940796, logvar: 0.20998260378837585, training batch loss: 0.13, bce: 0.11, kld: 0.02\n"
     ]
    },
    {
     "name": "stderr",
     "output_type": "stream",
     "text": [
      " 70%|███████   | 7/10 [02:03<00:52, 17.45s/it]"
     ]
    },
    {
     "name": "stdout",
     "output_type": "stream",
     "text": [
      "Epoch: 6, Train Loss: 0.1345929056406021, Test Loss: 0.1241522952914238\n"
     ]
    },
    {
     "name": "stderr",
     "output_type": "stream",
     "text": [
      " 80%|████████  | 8/10 [02:21<00:34, 17.43s/it]"
     ]
    },
    {
     "name": "stdout",
     "output_type": "stream",
     "text": [
      "Batch 0, mu: 3.223984479904175, logvar: 0.1753617376089096, training batch loss: 0.12, bce: 0.10, kld: 0.02\n",
      "Batch 100, mu: 3.750890016555786, logvar: 0.11838282644748688, training batch loss: 0.13, bce: 0.11, kld: 0.02\n",
      "Batch 200, mu: 2.562655448913574, logvar: 0.14386048913002014, training batch loss: 0.13, bce: 0.11, kld: 0.02\n",
      "Batch 300, mu: 2.9953155517578125, logvar: 0.2521851360797882, training batch loss: 0.13, bce: 0.11, kld: 0.02\n",
      "Batch 400, mu: 3.4449918270111084, logvar: 0.26077309250831604, training batch loss: 0.12, bce: 0.10, kld: 0.02\n",
      "Batch 500, mu: 3.183992624282837, logvar: 0.11525271832942963, training batch loss: 0.12, bce: 0.10, kld: 0.02\n",
      "Batch 600, mu: 2.832573175430298, logvar: 0.19186019897460938, training batch loss: 0.14, bce: 0.12, kld: 0.02\n",
      "Batch 700, mu: 3.229613780975342, logvar: 0.22244423627853394, training batch loss: 0.13, bce: 0.11, kld: 0.02\n",
      "Batch 800, mu: 2.836387872695923, logvar: 0.2659110724925995, training batch loss: 0.14, bce: 0.12, kld: 0.02\n",
      "Batch 900, mu: 3.1749355792999268, logvar: 0.16751845180988312, training batch loss: 0.14, bce: 0.12, kld: 0.02\n",
      "Batch 1000, mu: 2.873976707458496, logvar: 0.15388384461402893, training batch loss: 0.13, bce: 0.11, kld: 0.02\n",
      "Batch 1100, mu: 3.0612637996673584, logvar: 0.15591928362846375, training batch loss: 0.13, bce: 0.11, kld: 0.02\n",
      "Batch 1200, mu: 2.7913601398468018, logvar: 0.19451333582401276, training batch loss: 0.12, bce: 0.10, kld: 0.02\n",
      "Batch 1300, mu: 2.9526233673095703, logvar: 0.14871113002300262, training batch loss: 0.14, bce: 0.12, kld: 0.02\n",
      "Batch 1400, mu: 2.702153205871582, logvar: 0.16421429812908173, training batch loss: 0.13, bce: 0.11, kld: 0.02\n",
      "Batch 1500, mu: 3.4395031929016113, logvar: 0.18962635099887848, training batch loss: 0.12, bce: 0.10, kld: 0.02\n",
      "Batch 1600, mu: 2.674597978591919, logvar: 0.23147273063659668, training batch loss: 0.12, bce: 0.10, kld: 0.02\n",
      "Batch 1700, mu: 3.4026296138763428, logvar: 0.14533115923404694, training batch loss: 0.13, bce: 0.11, kld: 0.02\n",
      "Batch 1800, mu: 3.4733126163482666, logvar: 0.243600994348526, training batch loss: 0.12, bce: 0.10, kld: 0.02\n"
     ]
    },
    {
     "name": "stderr",
     "output_type": "stream",
     "text": [
      " 90%|█████████ | 9/10 [02:38<00:17, 17.58s/it]"
     ]
    },
    {
     "name": "stdout",
     "output_type": "stream",
     "text": [
      "Epoch: 8, Train Loss: 0.12943503260612488, Test Loss: 0.11987381428480148\n"
     ]
    },
    {
     "name": "stderr",
     "output_type": "stream",
     "text": [
      "100%|██████████| 10/10 [02:55<00:00, 17.57s/it]"
     ]
    },
    {
     "name": "stdout",
     "output_type": "stream",
     "text": [
      "CPU times: user 2min 46s, sys: 17.7 s, total: 3min 4s\n",
      "Wall time: 2min 55s\n"
     ]
    },
    {
     "name": "stderr",
     "output_type": "stream",
     "text": [
      "\n"
     ]
    }
   ],
   "source": [
    "%%time\n",
    "\n",
    "from tqdm.auto import  tqdm\n",
    "\n",
    "epochs = 10\n",
    "batch_train_losses = []\n",
    "bce_batch_train_losses = []\n",
    "kld_batch_train_losses = []\n",
    "\n",
    "batch_test_losses = []\n",
    "bce_batch_test_losses = []\n",
    "kld_batch_test_losses = []\n",
    "\n",
    "model1.to(device=device)\n",
    "\n",
    "for epoch in tqdm(range(epochs)):\n",
    "    model1.train()\n",
    "    train_losses = 0\n",
    "    bce_train_losses = 0\n",
    "    kld_train_losses = 0\n",
    "\n",
    "    test_losses = 0\n",
    "    bce_test_losses = 0\n",
    "    kld_test_losses = 0\n",
    "\n",
    "    for batch, (X, y) in enumerate(train_DataLoader):\n",
    "        X = X.to(device=device)\n",
    "\n",
    "        output, mu, logvar = model1(X)\n",
    "        loss, bce, kld = loss_fn(X.view(X.shape[0], -1), output, mu, logvar, 1)\n",
    "\n",
    "        train_losses += loss\n",
    "        bce_train_losses += bce.item()\n",
    "        kld_train_losses += kld\n",
    "\n",
    "        loss.backward()\n",
    "        optimizer.step()\n",
    "        optimizer.zero_grad()\n",
    "\n",
    "        if batch%100==0 and epoch%2==0:\n",
    "            print(f\"Batch {batch}, mu: {mu.max()}, logvar: {logvar.max()}, training batch loss: {loss:.2f}, bce: {bce:.2f}, kld: {kld:.2f}\")\n",
    "\n",
    "    train_losses /= len(train_DataLoader)\n",
    "    batch_train_losses.append(train_losses)\n",
    "\n",
    "    bce_train_losses /= len(train_DataLoader)\n",
    "    bce_batch_train_losses.append(bce_train_losses)\n",
    "\n",
    "    kld_train_losses /= len(train_DataLoader)\n",
    "    kld_batch_train_losses.append(kld_train_losses)\n",
    "\n",
    "    model1.eval()\n",
    "    with torch.inference_mode():\n",
    "        for X, y in test_DataLoader:\n",
    "            X = X.to(device=device)\n",
    "\n",
    "            output, mu, logvar = model1(X)\n",
    "\n",
    "            loss, bce, kld = loss_fn(X.view(X.shape[0], -1), output, mu, logvar, 1)\n",
    "            test_losses += loss\n",
    "            bce_test_losses += bce.item()\n",
    "            kld_test_losses += kld\n",
    "\n",
    "        test_losses /= len(test_DataLoader)\n",
    "        batch_test_losses.append(test_losses)\n",
    "\n",
    "        bce_test_losses /= len(test_DataLoader)\n",
    "        bce_batch_test_losses.append(bce_test_losses)\n",
    "\n",
    "        kld_test_losses /= len(test_DataLoader)\n",
    "        kld_batch_test_losses.append(kld_test_losses)\n",
    "\n",
    "    if epoch%2 == 0:\n",
    "        print(f\"Epoch: {epoch}, Train Loss: {train_losses}, Test Loss: {test_losses}\")"
   ]
  },
  {
   "cell_type": "code",
   "execution_count": 9,
   "id": "858c86bb",
   "metadata": {},
   "outputs": [
    {
     "data": {
      "image/png": "[encoded data removed]",
      "text/plain": [
       "<Figure size 640x480 with 1 Axes>"
      ]
     },
     "metadata": {},
     "output_type": "display_data"
    }
   ],
   "source": [
    "plt.plot([i.item() for i in batch_train_losses], label=\"Train Loss\")\n",
    "plt.plot([i.item() for i in batch_test_losses], label=\"Test Loss\")\n",
    "\n",
    "plt.title(\"Train and Test loss in model1\")\n",
    "plt.legend()\n",
    "plt.show()"
   ]
  },
  {
   "cell_type": "code",
   "execution_count": 10,
   "id": "92b1fca8",
   "metadata": {},
   "outputs": [
    {
     "data": {
      "text/plain": [
       "[<matplotlib.lines.Line2D at 0x15adb4cd0>]"
      ]
     },
     "execution_count": 10,
     "metadata": {},
     "output_type": "execute_result"
    },
    {
     "data": {
      "image/png": "[encoded data removed]",
      "text/plain": [
       "<Figure size 640x480 with 1 Axes>"
      ]
     },
     "metadata": {},
     "output_type": "display_data"
    }
   ],
   "source": [
    "plt.plot([i.item() for i in batch_test_losses], label=\"Test\")"
   ]
  },
  {
   "cell_type": "code",
   "execution_count": 11,
   "id": "b00786b5",
   "metadata": {},
   "outputs": [
    {
     "data": {
      "image/png": "[encoded data removed]",
      "text/plain": [
       "<Figure size 640x480 with 1 Axes>"
      ]
     },
     "metadata": {},
     "output_type": "display_data"
    }
   ],
   "source": [
    "plt.plot([i for i in bce_batch_test_losses], label=\"Test\")\n",
    "plt.plot([i for i in bce_batch_train_losses], label=\"Train\")\n",
    "\n",
    "plt.legend()\n",
    "plt.show()"
   ]
  },
  {
   "cell_type": "code",
   "execution_count": 12,
   "id": "30acfee8",
   "metadata": {},
   "outputs": [
    {
     "data": {
      "image/png": "[encoded data removed]",
      "text/plain": [
       "<Figure size 640x480 with 1 Axes>"
      ]
     },
     "metadata": {},
     "output_type": "display_data"
    }
   ],
   "source": [
    "plt.plot([i.cpu().item() for i in kld_batch_train_losses], label=\"Train\")\n",
    "plt.plot([i.cpu().item() for i in kld_batch_test_losses], label=\"Test\")\n",
    "\n",
    "plt.legend()\n",
    "plt.show()"
   ]
  },
  {
   "cell_type": "code",
   "execution_count": 13,
   "id": "55668a3f",
   "metadata": {},
   "outputs": [
    {
     "data": {
      "image/png": "[encoded data removed]",
      "text/plain": [
       "<Figure size 800x400 with 2 Axes>"
      ]
     },
     "metadata": {},
     "output_type": "display_data"
    }
   ],
   "source": [
    "model1.eval()\n",
    "\n",
    "img = next(iter(test_DataLoader))[0][0]\n",
    "\n",
    "with torch.no_grad():\n",
    "    output, mu, logvar = model1(img.to(device=device))\n",
    "\n",
    "output = torch.reshape(input=output, shape=(1, 28, 28))\n",
    "output = torch.sigmoid(output)\n",
    "\n",
    "fig, ax = plt.subplots(1, 2, figsize=(8, 4))\n",
    "\n",
    "ax[0].imshow(output.cpu().squeeze().numpy(), cmap='gray')\n",
    "ax[0].set_title(\"Linear VAE model1 Output\")\n",
    "ax[1].imshow(img.cpu().squeeze().numpy(), cmap='gray')\n",
    "ax[1].set_title(\"Actual image\")\n",
    "\n",
    "ax[0].axis(False)\n",
    "ax[1].axis(False)\n",
    "\n",
    "plt.show()"
   ]
  },
  {
   "cell_type": "markdown",
   "id": "90aaea5f",
   "metadata": {},
   "source": [
    "So complex model, and still bad output. \n",
    "### Let's try a simpler model and see results"
   ]
  },
  {
   "cell_type": "code",
   "execution_count": 14,
   "id": "4a992efb",
   "metadata": {},
   "outputs": [
    {
     "data": {
      "text/plain": [
       "(LinearVAE(\n",
       "   (base_encode): Sequential(\n",
       "     (0): Linear(in_features=784, out_features=128, bias=True)\n",
       "     (1): ReLU()\n",
       "     (2): Linear(in_features=128, out_features=256, bias=True)\n",
       "     (3): ReLU()\n",
       "   )\n",
       "   (fc_mu): Linear(in_features=256, out_features=64, bias=True)\n",
       "   (fc_logvar): Linear(in_features=256, out_features=64, bias=True)\n",
       "   (base_decode): Sequential(\n",
       "     (0): Linear(in_features=64, out_features=128, bias=True)\n",
       "     (1): ReLU()\n",
       "     (2): Linear(in_features=128, out_features=256, bias=True)\n",
       "     (3): ReLU()\n",
       "     (4): Linear(in_features=256, out_features=784, bias=True)\n",
       "   )\n",
       " ),\n",
       " device(type='mps', index=0),\n",
       " 409232)"
      ]
     },
     "execution_count": 14,
     "metadata": {},
     "output_type": "execute_result"
    }
   ],
   "source": [
    "class LinearVAE(nn.Module):\n",
    "    def __init__(self, input_features, encoder_hidden, latent_dim, decoder_hidden):\n",
    "        super().__init__()\n",
    "\n",
    "        self.base_encode = nn.Sequential(\n",
    "            nn.Linear(in_features=input_features, out_features=encoder_hidden),\n",
    "            nn.ReLU(),\n",
    "            nn.Linear(in_features=encoder_hidden, out_features=encoder_hidden*2),\n",
    "            nn.ReLU()\n",
    "        )\n",
    "\n",
    "        self.fc_mu = nn.Linear(in_features=encoder_hidden*2, out_features=latent_dim)\n",
    "        self.fc_logvar = nn.Linear(in_features=encoder_hidden*2, out_features=latent_dim)\n",
    "\n",
    "        self.base_decode = nn.Sequential(\n",
    "            nn.Linear(in_features=latent_dim, out_features=decoder_hidden),\n",
    "            nn.ReLU(),\n",
    "            nn.Linear(in_features=decoder_hidden, out_features=decoder_hidden*2),\n",
    "            nn.ReLU(),\n",
    "            nn.Linear(in_features=decoder_hidden*2, out_features=input_features)\n",
    "        )\n",
    "\n",
    "    def encoder(self, x: torch.Tensor) -> torch.Tensor:\n",
    "        batch_size = x.shape[0]\n",
    "        x = x.view(batch_size, -1)\n",
    "        fc = self.base_encode(x)\n",
    "        mu = self.fc_mu(fc)\n",
    "        logvar = self.fc_logvar(fc)\n",
    "        \n",
    "        std = torch.exp(0.5 * logvar)\n",
    "        eps = torch.randn_like(std)\n",
    "        z = mu + std*eps\n",
    "        return z, mu, logvar\n",
    "    \n",
    "    def decoder(self, z: torch.Tensor) -> torch.Tensor:\n",
    "        return self.base_decode(z)\n",
    "    \n",
    "    def forward(self, x: torch.Tensor) -> torch.Tensor:\n",
    "        z, mu, logvar = self.encoder(x)\n",
    "        output = self.decoder(z)\n",
    "        return output, mu, logvar\n",
    "    \n",
    "model2 = LinearVAE(input_features=28*28, encoder_hidden=128, latent_dim=64, decoder_hidden=128)\n",
    "model2.to(device=device)\n",
    "\n",
    "def loss_fn(x, x_hat, mu, logvar):\n",
    "    BCE = nn.functional.binary_cross_entropy_with_logits(x_hat, x, reduction='sum')\n",
    "    KLD = -0.5*torch.sum(1 + logvar - mu.pow(2) - logvar.exp())\n",
    "    return BCE + KLD\n",
    "\n",
    "optimizer = torch.optim.Adam(params=model2.parameters(), lr=1e-3)\n",
    "\n",
    "model2, next(model2.parameters()).device, sum(torch.numel(i) for i in model2.parameters() if i.requires_grad)"
   ]
  },
  {
   "cell_type": "code",
   "execution_count": 15,
   "id": "2cb2233c",
   "metadata": {},
   "outputs": [
    {
     "name": "stderr",
     "output_type": "stream",
     "text": [
      "  0%|          | 0/10 [00:00<?, ?it/s]"
     ]
    },
    {
     "name": "stdout",
     "output_type": "stream",
     "text": [
      "Batch 0, mu: 0.1541103720664978, logvar: 0.20338767766952515, training batch loss: 17437.17\n",
      "Batch 100, mu: 1.029617428779602, logvar: 0.30905288457870483, training batch loss: 6623.87\n",
      "Batch 200, mu: 1.1015342473983765, logvar: 0.14490075409412384, training batch loss: 6423.81\n",
      "Batch 300, mu: 1.493341326713562, logvar: 0.17580866813659668, training batch loss: 6263.18\n",
      "Batch 400, mu: 1.8534265756607056, logvar: 0.29519757628440857, training batch loss: 5542.80\n",
      "Batch 500, mu: 1.682174563407898, logvar: 0.36043494939804077, training batch loss: 5667.67\n",
      "Batch 600, mu: 2.2472007274627686, logvar: 0.2852162718772888, training batch loss: 5980.45\n",
      "Batch 700, mu: 2.8870444297790527, logvar: 0.17487037181854248, training batch loss: 5323.01\n",
      "Batch 800, mu: 2.240295648574829, logvar: 0.12489862740039825, training batch loss: 4943.06\n",
      "Batch 900, mu: 3.2470195293426514, logvar: 0.164066344499588, training batch loss: 4753.10\n",
      "Batch 1000, mu: 3.037126064300537, logvar: 0.19186332821846008, training batch loss: 4970.04\n",
      "Batch 1100, mu: 2.750093460083008, logvar: 0.1506263166666031, training batch loss: 4817.77\n",
      "Batch 1200, mu: 2.6589903831481934, logvar: 0.13804824650287628, training batch loss: 4820.62\n",
      "Batch 1300, mu: 2.4245996475219727, logvar: 0.12720045447349548, training batch loss: 4629.92\n",
      "Batch 1400, mu: 2.7777328491210938, logvar: 0.20309749245643616, training batch loss: 4484.53\n",
      "Batch 1500, mu: 3.0689568519592285, logvar: 0.11820618063211441, training batch loss: 4290.79\n",
      "Batch 1600, mu: 2.9803292751312256, logvar: 0.13887906074523926, training batch loss: 4324.49\n",
      "Batch 1700, mu: 2.8759827613830566, logvar: 0.16491100192070007, training batch loss: 4405.11\n",
      "Batch 1800, mu: 3.4484572410583496, logvar: 0.11568289250135422, training batch loss: 4188.84\n"
     ]
    },
    {
     "name": "stderr",
     "output_type": "stream",
     "text": [
      " 10%|█         | 1/10 [00:11<01:42, 11.41s/it]"
     ]
    },
    {
     "name": "stdout",
     "output_type": "stream",
     "text": [
      "Epoch: 0, Train Loss: 5201.00048828125, Test Loss: 4157.88134765625\n"
     ]
    },
    {
     "name": "stderr",
     "output_type": "stream",
     "text": [
      " 20%|██        | 2/10 [00:22<01:30, 11.30s/it]"
     ]
    },
    {
     "name": "stdout",
     "output_type": "stream",
     "text": [
      "Batch 0, mu: 3.2557549476623535, logvar: 0.13488250970840454, training batch loss: 3854.41\n",
      "Batch 100, mu: 2.894294023513794, logvar: 0.1366337388753891, training batch loss: 3939.22\n",
      "Batch 200, mu: 3.054924249649048, logvar: 0.1719352900981903, training batch loss: 3721.64\n",
      "Batch 300, mu: 3.094846487045288, logvar: 0.1492730975151062, training batch loss: 4090.06\n",
      "Batch 400, mu: 2.978888750076294, logvar: 0.1240202859044075, training batch loss: 3598.23\n",
      "Batch 500, mu: 2.975745916366577, logvar: 0.11104266345500946, training batch loss: 3775.72\n",
      "Batch 600, mu: 3.213001012802124, logvar: 0.10122039914131165, training batch loss: 4108.51\n",
      "Batch 700, mu: 2.688894033432007, logvar: 0.10178252309560776, training batch loss: 3231.11\n",
      "Batch 800, mu: 3.0050060749053955, logvar: 0.09788855910301208, training batch loss: 3396.64\n",
      "Batch 900, mu: 3.5107827186584473, logvar: 0.1141144186258316, training batch loss: 3626.31\n",
      "Batch 1000, mu: 2.836587905883789, logvar: 0.11285711824893951, training batch loss: 3960.36\n",
      "Batch 1100, mu: 3.3939623832702637, logvar: 0.13271763920783997, training batch loss: 3836.21\n",
      "Batch 1200, mu: 3.1654486656188965, logvar: 0.11457769572734833, training batch loss: 3533.13\n",
      "Batch 1300, mu: 2.6445224285125732, logvar: 0.15117400884628296, training batch loss: 3338.14\n",
      "Batch 1400, mu: 3.161208391189575, logvar: 0.11984454840421677, training batch loss: 4092.22\n",
      "Batch 1500, mu: 2.9242100715637207, logvar: 0.14077697694301605, training batch loss: 3358.54\n",
      "Batch 1600, mu: 3.091850757598877, logvar: 0.13744401931762695, training batch loss: 3767.16\n",
      "Batch 1700, mu: 2.5079736709594727, logvar: 0.11122027784585953, training batch loss: 3519.60\n",
      "Batch 1800, mu: 3.176342487335205, logvar: 0.1229579895734787, training batch loss: 3596.16\n"
     ]
    },
    {
     "name": "stderr",
     "output_type": "stream",
     "text": [
      " 30%|███       | 3/10 [00:33<01:18, 11.27s/it]"
     ]
    },
    {
     "name": "stdout",
     "output_type": "stream",
     "text": [
      "Epoch: 2, Train Loss: 3718.202392578125, Test Loss: 3627.302001953125\n"
     ]
    },
    {
     "name": "stderr",
     "output_type": "stream",
     "text": [
      " 40%|████      | 4/10 [00:45<01:07, 11.25s/it]"
     ]
    },
    {
     "name": "stdout",
     "output_type": "stream",
     "text": [
      "Batch 0, mu: 3.778388023376465, logvar: 0.09753582626581192, training batch loss: 3618.00\n",
      "Batch 100, mu: 2.5352303981781006, logvar: 0.12894384562969208, training batch loss: 3564.83\n",
      "Batch 200, mu: 3.2278826236724854, logvar: 0.12198053300380707, training batch loss: 3426.48\n",
      "Batch 300, mu: 2.5301434993743896, logvar: 0.10695512592792511, training batch loss: 3697.72\n",
      "Batch 400, mu: 2.5791895389556885, logvar: 0.10746720433235168, training batch loss: 3559.69\n",
      "Batch 500, mu: 2.6357314586639404, logvar: 0.09387875348329544, training batch loss: 3477.07\n",
      "Batch 600, mu: 2.4978625774383545, logvar: 0.1677326112985611, training batch loss: 3608.53\n",
      "Batch 700, mu: 2.5194478034973145, logvar: 0.10650201141834259, training batch loss: 3508.76\n",
      "Batch 800, mu: 2.824737787246704, logvar: 0.13682879507541656, training batch loss: 3373.49\n",
      "Batch 900, mu: 2.7085041999816895, logvar: 0.09417008608579636, training batch loss: 3451.21\n",
      "Batch 1000, mu: 2.8437438011169434, logvar: 0.10337431728839874, training batch loss: 3999.33\n",
      "Batch 1100, mu: 2.966438055038452, logvar: 0.16673226654529572, training batch loss: 3408.96\n",
      "Batch 1200, mu: 2.6930437088012695, logvar: 0.15092188119888306, training batch loss: 3419.85\n",
      "Batch 1300, mu: 2.518087863922119, logvar: 0.12510906159877777, training batch loss: 3476.76\n",
      "Batch 1400, mu: 3.0726516246795654, logvar: 0.10213511437177658, training batch loss: 3909.42\n",
      "Batch 1500, mu: 2.6079256534576416, logvar: 0.12148384749889374, training batch loss: 3131.33\n",
      "Batch 1600, mu: 2.447019338607788, logvar: 0.10634124279022217, training batch loss: 3623.15\n",
      "Batch 1700, mu: 2.9512500762939453, logvar: 0.10609929263591766, training batch loss: 3284.31\n",
      "Batch 1800, mu: 3.0213606357574463, logvar: 0.12582392990589142, training batch loss: 3421.33\n"
     ]
    },
    {
     "name": "stderr",
     "output_type": "stream",
     "text": [
      " 50%|█████     | 5/10 [00:56<00:56, 11.26s/it]"
     ]
    },
    {
     "name": "stdout",
     "output_type": "stream",
     "text": [
      "Epoch: 4, Train Loss: 3553.57275390625, Test Loss: 3508.924560546875\n"
     ]
    },
    {
     "name": "stderr",
     "output_type": "stream",
     "text": [
      " 60%|██████    | 6/10 [01:08<00:45, 11.47s/it]"
     ]
    },
    {
     "name": "stdout",
     "output_type": "stream",
     "text": [
      "Batch 0, mu: 2.699676036834717, logvar: 0.11498410999774933, training batch loss: 3528.66\n",
      "Batch 100, mu: 3.014416456222534, logvar: 0.10840189456939697, training batch loss: 3273.35\n",
      "Batch 200, mu: 2.479369878768921, logvar: 0.10843387246131897, training batch loss: 3416.18\n",
      "Batch 300, mu: 2.6755974292755127, logvar: 0.1154751256108284, training batch loss: 3521.21\n",
      "Batch 400, mu: 2.793715715408325, logvar: 0.12297119945287704, training batch loss: 3747.42\n",
      "Batch 500, mu: 3.001824378967285, logvar: 0.11703839153051376, training batch loss: 3288.06\n",
      "Batch 600, mu: 3.042499303817749, logvar: 0.10904597491025925, training batch loss: 3341.27\n",
      "Batch 700, mu: 3.147172689437866, logvar: 0.15583005547523499, training batch loss: 3238.55\n",
      "Batch 800, mu: 2.6923255920410156, logvar: 0.13547523319721222, training batch loss: 3391.32\n",
      "Batch 900, mu: 2.509953498840332, logvar: 0.09768982231616974, training batch loss: 3406.02\n",
      "Batch 1000, mu: 2.5904204845428467, logvar: 0.13675545156002045, training batch loss: 3510.18\n",
      "Batch 1100, mu: 2.7596795558929443, logvar: 0.13224658370018005, training batch loss: 3816.46\n",
      "Batch 1200, mu: 3.6236491203308105, logvar: 0.11332809925079346, training batch loss: 3425.82\n",
      "Batch 1300, mu: 2.9629828929901123, logvar: 0.14828476309776306, training batch loss: 3478.85\n",
      "Batch 1400, mu: 2.90388560295105, logvar: 0.13148100674152374, training batch loss: 3397.40\n",
      "Batch 1500, mu: 2.4659433364868164, logvar: 0.10469023883342743, training batch loss: 3342.09\n",
      "Batch 1600, mu: 3.311237335205078, logvar: 0.16764390468597412, training batch loss: 3525.87\n",
      "Batch 1700, mu: 2.4949448108673096, logvar: 0.11451465636491776, training batch loss: 3557.67\n",
      "Batch 1800, mu: 3.7839107513427734, logvar: 0.11864278465509415, training batch loss: 3787.31\n"
     ]
    },
    {
     "name": "stderr",
     "output_type": "stream",
     "text": [
      " 70%|███████   | 7/10 [01:19<00:34, 11.47s/it]"
     ]
    },
    {
     "name": "stdout",
     "output_type": "stream",
     "text": [
      "Epoch: 6, Train Loss: 3475.133544921875, Test Loss: 3451.411376953125\n"
     ]
    },
    {
     "name": "stderr",
     "output_type": "stream",
     "text": [
      " 80%|████████  | 8/10 [01:31<00:22, 11.42s/it]"
     ]
    },
    {
     "name": "stdout",
     "output_type": "stream",
     "text": [
      "Batch 0, mu: 2.918382167816162, logvar: 0.1294080913066864, training batch loss: 3720.48\n",
      "Batch 100, mu: 2.809417963027954, logvar: 0.15160825848579407, training batch loss: 3924.11\n",
      "Batch 200, mu: 2.522988796234131, logvar: 0.10833624005317688, training batch loss: 3376.37\n",
      "Batch 300, mu: 2.946580410003662, logvar: 0.10844183713197708, training batch loss: 3380.92\n",
      "Batch 400, mu: 3.007089138031006, logvar: 0.113615021109581, training batch loss: 3484.85\n",
      "Batch 500, mu: 2.8452346324920654, logvar: 0.11549199372529984, training batch loss: 3431.96\n",
      "Batch 600, mu: 2.7139298915863037, logvar: 0.09219171106815338, training batch loss: 3371.24\n",
      "Batch 700, mu: 3.071258306503296, logvar: 0.13690467178821564, training batch loss: 3413.46\n",
      "Batch 800, mu: 2.7920639514923096, logvar: 0.11961695551872253, training batch loss: 3497.55\n",
      "Batch 900, mu: 2.883046865463257, logvar: 0.11148692667484283, training batch loss: 3013.97\n",
      "Batch 1000, mu: 3.238816499710083, logvar: 0.12974019348621368, training batch loss: 3970.67\n",
      "Batch 1100, mu: 2.54719614982605, logvar: 0.1075376570224762, training batch loss: 3662.84\n",
      "Batch 1200, mu: 2.574793577194214, logvar: 0.11757024377584457, training batch loss: 3612.08\n",
      "Batch 1300, mu: 2.556795120239258, logvar: 0.09432955086231232, training batch loss: 3212.95\n",
      "Batch 1400, mu: 2.7855899333953857, logvar: 0.1113312840461731, training batch loss: 3547.16\n",
      "Batch 1500, mu: 2.8930022716522217, logvar: 0.12969371676445007, training batch loss: 3502.37\n",
      "Batch 1600, mu: 2.779834508895874, logvar: 0.10399161279201508, training batch loss: 3658.00\n",
      "Batch 1700, mu: 2.920126438140869, logvar: 0.12310081720352173, training batch loss: 3640.98\n",
      "Batch 1800, mu: 3.169283628463745, logvar: 0.09329155087471008, training batch loss: 3438.52\n"
     ]
    },
    {
     "name": "stderr",
     "output_type": "stream",
     "text": [
      " 90%|█████████ | 9/10 [01:42<00:11, 11.41s/it]"
     ]
    },
    {
     "name": "stdout",
     "output_type": "stream",
     "text": [
      "Epoch: 8, Train Loss: 3426.48193359375, Test Loss: 3413.459716796875\n"
     ]
    },
    {
     "name": "stderr",
     "output_type": "stream",
     "text": [
      "100%|██████████| 10/10 [01:53<00:00, 11.40s/it]"
     ]
    },
    {
     "name": "stdout",
     "output_type": "stream",
     "text": [
      "CPU times: user 1min 56s, sys: 13.8 s, total: 2min 10s\n",
      "Wall time: 1min 54s\n"
     ]
    },
    {
     "name": "stderr",
     "output_type": "stream",
     "text": [
      "\n"
     ]
    }
   ],
   "source": [
    "%%time\n",
    "\n",
    "from tqdm.auto import  tqdm\n",
    "\n",
    "epochs = 10\n",
    "batch_train_losses = []\n",
    "batch_test_losses = []\n",
    "\n",
    "model2.to(device=device)\n",
    "\n",
    "for epoch in tqdm(range(epochs)):\n",
    "    model1.train()\n",
    "    train_losses = 0\n",
    "    test_losses = 0\n",
    "\n",
    "    for batch, (X, y) in enumerate(train_DataLoader):\n",
    "        X = X.to(device=device)\n",
    "\n",
    "        output, mu, logvar = model2(X)\n",
    "        loss = loss_fn(X.view(X.shape[0], -1), output, mu, logvar)\n",
    "\n",
    "        train_losses += loss\n",
    "\n",
    "        loss.backward()\n",
    "        optimizer.step()\n",
    "        optimizer.zero_grad()\n",
    "\n",
    "        if batch%100==0 and epoch%2==0:\n",
    "            print(f\"Batch {batch}, mu: {mu.max()}, logvar: {logvar.max()}, training batch loss: {loss:.2f}\")\n",
    "\n",
    "    train_losses /= len(train_DataLoader)\n",
    "    batch_train_losses.append(train_losses)\n",
    "\n",
    "    model2.eval()\n",
    "    with torch.inference_mode():\n",
    "        for X, y in test_DataLoader:\n",
    "            X = X.to(device=device)\n",
    "\n",
    "            output, mu, logvar = model2(X)\n",
    "\n",
    "            loss = loss_fn(X.view(X.shape[0], -1), output, mu, logvar)\n",
    "            test_losses += loss\n",
    "\n",
    "        test_losses /= len(test_DataLoader)\n",
    "        batch_test_losses.append(test_losses)\n",
    "\n",
    "    if epoch%2 == 0:\n",
    "        print(f\"Epoch: {epoch}, Train Loss: {train_losses}, Test Loss: {test_losses}\")"
   ]
  },
  {
   "cell_type": "code",
   "execution_count": 16,
   "id": "0c182a67",
   "metadata": {},
   "outputs": [
    {
     "data": {
      "image/png": "[encoded data removed]",
      "text/plain": [
       "<Figure size 640x480 with 1 Axes>"
      ]
     },
     "metadata": {},
     "output_type": "display_data"
    }
   ],
   "source": [
    "plt.plot([i.item() for i in batch_train_losses], label=\"Train Loss\")\n",
    "plt.plot([i.item() for i in batch_test_losses], label=\"Test Loss\")\n",
    "\n",
    "plt.title(\"Train and Test loss for linear model 2\")\n",
    "\n",
    "plt.legend()\n",
    "\n",
    "plt.show()"
   ]
  },
  {
   "cell_type": "code",
   "execution_count": 17,
   "id": "2597b2d8",
   "metadata": {},
   "outputs": [
    {
     "data": {
      "image/png": "[encoded data removed]",
      "text/plain": [
       "<Figure size 1200x300 with 16 Axes>"
      ]
     },
     "metadata": {},
     "output_type": "display_data"
    }
   ],
   "source": [
    "import matplotlib.pyplot as plt\n",
    "\n",
    "model2.eval()\n",
    "with torch.no_grad():\n",
    "    x, _ = next(iter(train_DataLoader))\n",
    "    x = x.to(device)\n",
    "    x_hat_logits, _, _ = model2(x)\n",
    "    x_hat = torch.sigmoid(x_hat_logits)\n",
    "    \n",
    "    fig, axes = plt.subplots(2, 8, figsize=(12, 3))\n",
    "    for i in range(8):\n",
    "        axes[0, i].imshow(x[i].view(28, 28).cpu(), cmap='gray')\n",
    "        axes[1, i].imshow(x_hat[i].view(28, 28).cpu(), cmap='gray')\n",
    "        axes[0, i].axis('off')\n",
    "        axes[1, i].axis('off')\n",
    "    axes[0, 0].set_title(\"Originals\")\n",
    "    axes[1, 0].set_title(\"Reconstructions - Linear VAE\")\n",
    "    plt.show()\n"
   ]
  },
  {
   "cell_type": "code",
   "execution_count": 18,
   "id": "f5ec3cbf",
   "metadata": {},
   "outputs": [
    {
     "data": {
      "image/png": "[encoded data removed]",
      "text/plain": [
       "<Figure size 800x400 with 2 Axes>"
      ]
     },
     "metadata": {},
     "output_type": "display_data"
    }
   ],
   "source": [
    "model2.eval()\n",
    "\n",
    "img = next(iter(test_DataLoader))[0][0]\n",
    "\n",
    "with torch.no_grad():\n",
    "    output, mu, logvar = model2(img.to(device=device))\n",
    "\n",
    "output = torch.sigmoid(torch.reshape(input=output, shape=(1, 28, 28)))\n",
    "\n",
    "fig, ax = plt.subplots(1, 2, figsize=(8, 4))\n",
    "\n",
    "ax[0].imshow(output.cpu().squeeze().numpy(), cmap='gray')\n",
    "ax[0].set_title(\"Linear VAE model2 Output\")\n",
    "ax[1].imshow(img.cpu().squeeze().numpy(), cmap='gray')\n",
    "ax[1].set_title(\"Actual image\")\n",
    "\n",
    "ax[0].axis(False)\n",
    "ax[1].axis(False)\n",
    "\n",
    "plt.show()"
   ]
  },
  {
   "cell_type": "markdown",
   "id": "74165038",
   "metadata": {},
   "source": [
    "This is quiet good, now let's try Conv VAEs"
   ]
  },
  {
   "cell_type": "code",
   "execution_count": 19,
   "id": "fa2f2273",
   "metadata": {},
   "outputs": [
    {
     "data": {
      "text/plain": [
       "(ConvVAE(\n",
       "   (base_encode): Sequential(\n",
       "     (0): Conv2d(1, 7, kernel_size=(3, 3), stride=(2, 2), padding=(1, 1))\n",
       "     (1): ReLU()\n",
       "     (2): Conv2d(7, 14, kernel_size=(3, 3), stride=(2, 2), padding=(1, 1))\n",
       "     (3): ReLU()\n",
       "     (4): Conv2d(14, 12, kernel_size=(7, 7), stride=(1, 1))\n",
       "     (5): ReLU()\n",
       "   )\n",
       "   (middle_encode): Sequential(\n",
       "     (0): Flatten(start_dim=1, end_dim=-1)\n",
       "     (1): Linear(in_features=12, out_features=64, bias=True)\n",
       "     (2): ReLU()\n",
       "     (3): Linear(in_features=64, out_features=128, bias=True)\n",
       "     (4): ReLU()\n",
       "   )\n",
       "   (conv_mu): Linear(in_features=128, out_features=12, bias=True)\n",
       "   (conv_logvar): Linear(in_features=128, out_features=12, bias=True)\n",
       "   (base_decode): Sequential(\n",
       "     (0): ConvTranspose2d(12, 14, kernel_size=(7, 7), stride=(1, 1))\n",
       "     (1): ReLU()\n",
       "     (2): ConvTranspose2d(14, 7, kernel_size=(3, 3), stride=(2, 2), padding=(1, 1), output_padding=(1, 1))\n",
       "     (3): ReLU()\n",
       "     (4): ConvTranspose2d(7, 1, kernel_size=(3, 3), stride=(2, 2), padding=(1, 1), output_padding=(1, 1))\n",
       "     (5): Sigmoid()\n",
       "   )\n",
       " ),\n",
       " device(type='mps', index=0),\n",
       " 30657)"
      ]
     },
     "execution_count": 19,
     "metadata": {},
     "output_type": "execute_result"
    }
   ],
   "source": [
    "class ConvVAE(nn.Module):\n",
    "    def __init__(self, input_channels, encoder_channels, latent_channel, decoder_channels):\n",
    "        super().__init__()\n",
    "\n",
    "        self.base_encode = nn.Sequential(\n",
    "            nn.Conv2d(in_channels=input_channels, out_channels=encoder_channels, kernel_size=3, stride=2, padding=1),\n",
    "            nn.ReLU(),\n",
    "            nn.Conv2d(in_channels=encoder_channels, out_channels=encoder_channels*2, kernel_size=3, stride=2, padding=1),\n",
    "            nn.ReLU(),\n",
    "            nn.Conv2d(in_channels=encoder_channels*2, out_channels=latent_channel, kernel_size=7),\n",
    "            nn.ReLU()\n",
    "        )\n",
    "\n",
    "        self.middle_encode = nn.Sequential(\n",
    "            nn.Flatten(),\n",
    "            nn.Linear(in_features=12, out_features=64),\n",
    "            nn.ReLU(),\n",
    "            nn.Linear(in_features=64, out_features=128),\n",
    "            nn.ReLU()\n",
    "        )\n",
    "\n",
    "        self.conv_mu = nn.Linear(in_features=128, out_features=12)\n",
    "        self.conv_logvar = nn.Linear(in_features=128, out_features=12)\n",
    "\n",
    "        self.base_decode = nn.Sequential(\n",
    "            nn.ConvTranspose2d(in_channels=latent_channel, out_channels=decoder_channels*2, kernel_size=7),\n",
    "            nn.ReLU(),\n",
    "            nn.ConvTranspose2d(in_channels=decoder_channels*2, out_channels=decoder_channels, kernel_size=3, stride=2, padding=1, output_padding=1),\n",
    "            nn.ReLU(),\n",
    "            nn.ConvTranspose2d(in_channels=decoder_channels, out_channels=input_channels, kernel_size=3, stride=2, padding=1, output_padding=1),\n",
    "            nn.Sigmoid()\n",
    "        )\n",
    "\n",
    "    def encoder(self, x: torch.Tensor) -> torch.Tensor:\n",
    "        conv = self.base_encode(x)\n",
    "        middle = self.middle_encode(conv)\n",
    "\n",
    "        mu = self.conv_mu(middle)\n",
    "        logvar = self.conv_logvar(middle)\n",
    "\n",
    "        std = torch.exp(0.5 * logvar)\n",
    "        eps = torch.randn_like(std)\n",
    "        z = mu + std*eps\n",
    "        return z, mu, logvar\n",
    "    \n",
    "    def decoder(self, z: torch.Tensor) -> torch.Tensor:\n",
    "        z = z.reshape(shape=(z.shape[0], z.shape[1], 1, 1))\n",
    "        return self.base_decode(z)\n",
    "    \n",
    "    def forward(self, x: torch.Tensor) -> torch.Tensor:\n",
    "        z, mu, logvar = self.encoder(x)\n",
    "        output = self.decoder(z)\n",
    "        return output, mu, logvar\n",
    "    \n",
    "convModel = ConvVAE(input_channels=1, encoder_channels=7, latent_channel=12, decoder_channels=7)\n",
    "convModel.to(device=device)\n",
    "\n",
    "convModel, next(convModel.parameters()).device, sum(torch.numel(i) for i in convModel.parameters() if i.requires_grad)"
   ]
  },
  {
   "cell_type": "code",
   "execution_count": 20,
   "id": "85005e6a",
   "metadata": {},
   "outputs": [
    {
     "data": {
      "text/plain": [
       "============================================================================================================================================\n",
       "Layer (type:depth-idx)                   Input Shape               Output Shape              Param #                   Trainable\n",
       "============================================================================================================================================\n",
       "ConvVAE                                  [32, 1, 28, 28]           [32, 1, 28, 28]           --                        True\n",
       "├─Sequential: 1-1                        [32, 1, 28, 28]           [32, 12, 1, 1]            --                        True\n",
       "│    └─Conv2d: 2-1                       [32, 1, 28, 28]           [32, 7, 14, 14]           70                        True\n",
       "│    └─ReLU: 2-2                         [32, 7, 14, 14]           [32, 7, 14, 14]           --                        --\n",
       "│    └─Conv2d: 2-3                       [32, 7, 14, 14]           [32, 14, 7, 7]            896                       True\n",
       "│    └─ReLU: 2-4                         [32, 14, 7, 7]            [32, 14, 7, 7]            --                        --\n",
       "│    └─Conv2d: 2-5                       [32, 14, 7, 7]            [32, 12, 1, 1]            8,244                     True\n",
       "│    └─ReLU: 2-6                         [32, 12, 1, 1]            [32, 12, 1, 1]            --                        --\n",
       "├─Sequential: 1-2                        [32, 12, 1, 1]            [32, 128]                 --                        True\n",
       "│    └─Flatten: 2-7                      [32, 12, 1, 1]            [32, 12]                  --                        --\n",
       "│    └─Linear: 2-8                       [32, 12]                  [32, 64]                  832                       True\n",
       "│    └─ReLU: 2-9                         [32, 64]                  [32, 64]                  --                        --\n",
       "│    └─Linear: 2-10                      [32, 64]                  [32, 128]                 8,320                     True\n",
       "│    └─ReLU: 2-11                        [32, 128]                 [32, 128]                 --                        --\n",
       "├─Linear: 1-3                            [32, 128]                 [32, 12]                  1,548                     True\n",
       "├─Linear: 1-4                            [32, 128]                 [32, 12]                  1,548                     True\n",
       "├─Sequential: 1-5                        [32, 12, 1, 1]            [32, 1, 28, 28]           --                        True\n",
       "│    └─ConvTranspose2d: 2-12             [32, 12, 1, 1]            [32, 14, 7, 7]            8,246                     True\n",
       "│    └─ReLU: 2-13                        [32, 14, 7, 7]            [32, 14, 7, 7]            --                        --\n",
       "│    └─ConvTranspose2d: 2-14             [32, 14, 7, 7]            [32, 7, 14, 14]           889                       True\n",
       "│    └─ReLU: 2-15                        [32, 7, 14, 14]           [32, 7, 14, 14]           --                        --\n",
       "│    └─ConvTranspose2d: 2-16             [32, 7, 14, 14]           [32, 1, 28, 28]           64                        True\n",
       "│    └─Sigmoid: 2-17                     [32, 1, 28, 28]           [32, 1, 28, 28]           --                        --\n",
       "============================================================================================================================================\n",
       "Total params: 30,657\n",
       "Trainable params: 30,657\n",
       "Non-trainable params: 0\n",
       "Total mult-adds (Units.MEGABYTES): 22.61\n",
       "============================================================================================================================================\n",
       "Input size (MB): 0.10\n",
       "Forward/backward pass size (MB): 1.31\n",
       "Params size (MB): 0.12\n",
       "Estimated Total Size (MB): 1.54\n",
       "============================================================================================================================================"
      ]
     },
     "execution_count": 20,
     "metadata": {},
     "output_type": "execute_result"
    }
   ],
   "source": [
    "summary(model=convModel, input_size=(32, 1, 28, 28), col_names=[\"input_size\", \"output_size\", \"num_params\", \"trainable\"])"
   ]
  },
  {
   "cell_type": "code",
   "execution_count": 21,
   "id": "1e145c6f",
   "metadata": {},
   "outputs": [],
   "source": [
    "def loss_fn(x_hat, x, mu, logvar):\n",
    "    BCE = torch.nn.functional.binary_cross_entropy(x_hat, x, reduction=\"sum\")\n",
    "    KLD = -0.5*torch.sum(1 + logvar - mu.pow(2) - logvar.exp())\n",
    "    return BCE + KLD\n",
    "\n",
    "optimizer = torch.optim.Adam(params=convModel.parameters(), lr=1e-3)"
   ]
  },
  {
   "cell_type": "code",
   "execution_count": 22,
   "id": "24935cfb",
   "metadata": {},
   "outputs": [
    {
     "name": "stderr",
     "output_type": "stream",
     "text": [
      "  0%|          | 0/10 [00:00<?, ?it/s]"
     ]
    },
    {
     "name": "stdout",
     "output_type": "stream",
     "text": [
      "Batch 0, mu: 0.06686222553253174, logvar: 0.11373673379421234, training batch loss: 16644.06\n",
      "Batch 100, mu: 2.218839645385742, logvar: -0.10361993312835693, training batch loss: 7448.91\n",
      "Batch 200, mu: 1.6020357608795166, logvar: -0.20661750435829163, training batch loss: 6829.21\n",
      "Batch 300, mu: 2.5749881267547607, logvar: -0.1610003262758255, training batch loss: 6796.52\n",
      "Batch 400, mu: 2.9444994926452637, logvar: -0.0933571383357048, training batch loss: 6690.76\n",
      "Batch 500, mu: 2.9214982986450195, logvar: -0.15954288840293884, training batch loss: 6453.49\n",
      "Batch 600, mu: 2.7035892009735107, logvar: -0.10724807530641556, training batch loss: 6164.97\n",
      "Batch 700, mu: 2.685110330581665, logvar: -0.10291886329650879, training batch loss: 6541.28\n",
      "Batch 800, mu: 2.980562686920166, logvar: -0.09886518865823746, training batch loss: 6523.29\n",
      "Batch 900, mu: 3.0556392669677734, logvar: -0.1064581498503685, training batch loss: 6339.81\n",
      "Batch 1000, mu: 3.245962619781494, logvar: -0.16552555561065674, training batch loss: 5837.09\n",
      "Batch 1100, mu: 3.3265767097473145, logvar: -0.1903921514749527, training batch loss: 6101.41\n",
      "Batch 1200, mu: 3.7881622314453125, logvar: -0.06489260494709015, training batch loss: 6224.90\n",
      "Batch 1300, mu: 3.442727565765381, logvar: -0.18540909886360168, training batch loss: 5922.03\n",
      "Batch 1400, mu: 2.765369415283203, logvar: -0.46452388167381287, training batch loss: 5601.78\n",
      "Batch 1500, mu: 2.7496144771575928, logvar: -0.6501544713973999, training batch loss: 5535.38\n",
      "Batch 1600, mu: 2.933004379272461, logvar: -0.3741734027862549, training batch loss: 5263.33\n",
      "Batch 1700, mu: 2.4996981620788574, logvar: -0.157778799533844, training batch loss: 5252.88\n",
      "Batch 1800, mu: 2.6960198879241943, logvar: -0.127421036362648, training batch loss: 4985.15\n"
     ]
    },
    {
     "name": "stderr",
     "output_type": "stream",
     "text": [
      " 10%|█         | 1/10 [00:46<07:00, 46.74s/it]"
     ]
    },
    {
     "name": "stdout",
     "output_type": "stream",
     "text": [
      "Epoch: 0, Train Loss: 6496.99365234375, Test Loss: 5290.173828125\n"
     ]
    },
    {
     "name": "stderr",
     "output_type": "stream",
     "text": [
      " 20%|██        | 2/10 [01:03<03:50, 28.87s/it]"
     ]
    },
    {
     "name": "stdout",
     "output_type": "stream",
     "text": [
      "Batch 0, mu: 2.7761878967285156, logvar: 0.028368830680847168, training batch loss: 4569.94\n",
      "Batch 100, mu: 2.7883102893829346, logvar: 0.027785874903202057, training batch loss: 5070.06\n",
      "Batch 200, mu: 2.659665107727051, logvar: -0.03834995999932289, training batch loss: 4814.59\n",
      "Batch 300, mu: 2.7150778770446777, logvar: -0.019541382789611816, training batch loss: 4894.81\n",
      "Batch 400, mu: 2.877774715423584, logvar: -0.003162362612783909, training batch loss: 4670.96\n",
      "Batch 500, mu: 2.6602084636688232, logvar: 0.011966809630393982, training batch loss: 4649.43\n",
      "Batch 600, mu: 3.0461268424987793, logvar: -0.03857986629009247, training batch loss: 4635.85\n",
      "Batch 700, mu: 2.730940818786621, logvar: 0.014851398766040802, training batch loss: 5209.34\n",
      "Batch 800, mu: 2.8929636478424072, logvar: 0.06236889958381653, training batch loss: 4631.71\n",
      "Batch 900, mu: 3.042294502258301, logvar: -0.029383167624473572, training batch loss: 4668.83\n",
      "Batch 1000, mu: 2.588153839111328, logvar: 0.044378265738487244, training batch loss: 4805.87\n",
      "Batch 1100, mu: 2.8083882331848145, logvar: -0.016675740480422974, training batch loss: 4989.35\n",
      "Batch 1200, mu: 2.3534023761749268, logvar: 0.040131792426109314, training batch loss: 5006.08\n",
      "Batch 1300, mu: 2.610024929046631, logvar: 0.02353227138519287, training batch loss: 5116.06\n",
      "Batch 1400, mu: 2.500743865966797, logvar: 0.023166202008724213, training batch loss: 4670.97\n",
      "Batch 1500, mu: 2.4815454483032227, logvar: -0.018852047622203827, training batch loss: 4927.31\n",
      "Batch 1600, mu: 2.406562089920044, logvar: -0.04566033184528351, training batch loss: 4544.33\n",
      "Batch 1700, mu: 2.9479613304138184, logvar: 0.011272795498371124, training batch loss: 4607.22\n",
      "Batch 1800, mu: 2.985852003097534, logvar: -0.022182850167155266, training batch loss: 4949.37\n"
     ]
    },
    {
     "name": "stderr",
     "output_type": "stream",
     "text": [
      " 30%|███       | 3/10 [01:19<02:40, 22.95s/it]"
     ]
    },
    {
     "name": "stdout",
     "output_type": "stream",
     "text": [
      "Epoch: 2, Train Loss: 4767.6533203125, Test Loss: 4721.24658203125\n"
     ]
    },
    {
     "name": "stderr",
     "output_type": "stream",
     "text": [
      " 40%|████      | 4/10 [01:34<02:01, 20.17s/it]"
     ]
    },
    {
     "name": "stdout",
     "output_type": "stream",
     "text": [
      "Batch 0, mu: 2.650251865386963, logvar: 0.015834171324968338, training batch loss: 4637.43\n",
      "Batch 100, mu: 2.5318338871002197, logvar: 0.023950442671775818, training batch loss: 4913.28\n",
      "Batch 200, mu: 3.1138217449188232, logvar: 0.13798187673091888, training batch loss: 4361.60\n",
      "Batch 300, mu: 2.658599376678467, logvar: 0.022241264581680298, training batch loss: 4871.89\n",
      "Batch 400, mu: 2.438411235809326, logvar: 0.030783280730247498, training batch loss: 4917.60\n",
      "Batch 500, mu: 2.4559197425842285, logvar: -0.019520431756973267, training batch loss: 4856.64\n",
      "Batch 600, mu: 2.60025691986084, logvar: 0.041527390480041504, training batch loss: 4464.77\n",
      "Batch 700, mu: 2.9630990028381348, logvar: 0.015762366354465485, training batch loss: 4741.60\n",
      "Batch 800, mu: 3.1269876956939697, logvar: 0.012041576206684113, training batch loss: 5151.83\n",
      "Batch 900, mu: 2.4009311199188232, logvar: 0.04501410573720932, training batch loss: 4297.78\n",
      "Batch 1000, mu: 2.6593947410583496, logvar: 0.01580192893743515, training batch loss: 5080.64\n",
      "Batch 1100, mu: 2.4940531253814697, logvar: -0.04087965190410614, training batch loss: 5201.37\n",
      "Batch 1200, mu: 2.615142822265625, logvar: 0.0711047351360321, training batch loss: 4684.77\n",
      "Batch 1300, mu: 2.9090640544891357, logvar: 0.0491943433880806, training batch loss: 4619.80\n",
      "Batch 1400, mu: 2.4338619709014893, logvar: 0.0630112960934639, training batch loss: 4703.34\n",
      "Batch 1500, mu: 2.238908529281616, logvar: 0.03112223744392395, training batch loss: 4560.94\n",
      "Batch 1600, mu: 2.9163999557495117, logvar: 0.013446331024169922, training batch loss: 4469.09\n",
      "Batch 1700, mu: 2.4955239295959473, logvar: -0.008550431579351425, training batch loss: 4708.33\n",
      "Batch 1800, mu: 2.4226975440979004, logvar: 0.055612750351428986, training batch loss: 4796.29\n"
     ]
    },
    {
     "name": "stderr",
     "output_type": "stream",
     "text": [
      " 50%|█████     | 5/10 [01:51<01:34, 18.84s/it]"
     ]
    },
    {
     "name": "stdout",
     "output_type": "stream",
     "text": [
      "Epoch: 4, Train Loss: 4642.20849609375, Test Loss: 4610.96826171875\n"
     ]
    },
    {
     "name": "stderr",
     "output_type": "stream",
     "text": [
      " 60%|██████    | 6/10 [02:07<01:11, 17.94s/it]"
     ]
    },
    {
     "name": "stdout",
     "output_type": "stream",
     "text": [
      "Batch 0, mu: 2.787238121032715, logvar: 0.008131712675094604, training batch loss: 4356.46\n",
      "Batch 100, mu: 3.0128815174102783, logvar: -0.011947572231292725, training batch loss: 4821.83\n",
      "Batch 200, mu: 3.1405832767486572, logvar: 0.030385635793209076, training batch loss: 4334.88\n",
      "Batch 300, mu: 2.4485185146331787, logvar: 0.04982367157936096, training batch loss: 4419.40\n",
      "Batch 400, mu: 2.4547955989837646, logvar: 0.020392626523971558, training batch loss: 4675.95\n",
      "Batch 500, mu: 2.9484660625457764, logvar: 0.07061901688575745, training batch loss: 4246.23\n",
      "Batch 600, mu: 2.393400192260742, logvar: 0.05220553278923035, training batch loss: 4640.23\n",
      "Batch 700, mu: 2.8992631435394287, logvar: 0.03811310976743698, training batch loss: 4395.80\n",
      "Batch 800, mu: 2.517378568649292, logvar: -0.0007868781685829163, training batch loss: 4604.88\n",
      "Batch 900, mu: 2.647764205932617, logvar: 0.011358581483364105, training batch loss: 4419.93\n",
      "Batch 1000, mu: 3.3592007160186768, logvar: 0.005817100405693054, training batch loss: 4542.84\n",
      "Batch 1100, mu: 2.833425283432007, logvar: 0.03426133841276169, training batch loss: 4396.40\n",
      "Batch 1200, mu: 2.7840969562530518, logvar: 0.004506267607212067, training batch loss: 4405.79\n",
      "Batch 1300, mu: 2.72996187210083, logvar: 0.019514009356498718, training batch loss: 4097.93\n",
      "Batch 1400, mu: 2.956153154373169, logvar: 0.055097900331020355, training batch loss: 4324.90\n",
      "Batch 1500, mu: 2.739837408065796, logvar: 0.030033214017748833, training batch loss: 4564.63\n",
      "Batch 1600, mu: 2.854771614074707, logvar: 0.04154649376869202, training batch loss: 4614.18\n",
      "Batch 1700, mu: 2.36421799659729, logvar: 0.044228121638298035, training batch loss: 4530.67\n",
      "Batch 1800, mu: 2.3103318214416504, logvar: 0.02100519835948944, training batch loss: 4048.81\n"
     ]
    },
    {
     "name": "stderr",
     "output_type": "stream",
     "text": [
      " 70%|███████   | 7/10 [02:23<00:52, 17.34s/it]"
     ]
    },
    {
     "name": "stdout",
     "output_type": "stream",
     "text": [
      "Epoch: 6, Train Loss: 4597.177734375, Test Loss: 4573.017578125\n"
     ]
    },
    {
     "name": "stderr",
     "output_type": "stream",
     "text": [
      " 80%|████████  | 8/10 [02:39<00:33, 16.83s/it]"
     ]
    },
    {
     "name": "stdout",
     "output_type": "stream",
     "text": [
      "Batch 0, mu: 2.4972469806671143, logvar: 0.019679315388202667, training batch loss: 4974.05\n",
      "Batch 100, mu: 2.2350914478302, logvar: 0.014937793835997581, training batch loss: 4928.76\n",
      "Batch 200, mu: 2.3288283348083496, logvar: 0.018909916281700134, training batch loss: 4448.97\n",
      "Batch 300, mu: 2.881019353866577, logvar: 0.010155633091926575, training batch loss: 4668.74\n",
      "Batch 400, mu: 2.5239059925079346, logvar: 0.024459652602672577, training batch loss: 4633.90\n",
      "Batch 500, mu: 2.1598939895629883, logvar: 0.032696738839149475, training batch loss: 4351.05\n",
      "Batch 600, mu: 2.361265182495117, logvar: 0.04712701588869095, training batch loss: 4356.90\n",
      "Batch 700, mu: 2.9750776290893555, logvar: 0.026159755885601044, training batch loss: 4878.24\n",
      "Batch 800, mu: 2.621375560760498, logvar: 0.018879815936088562, training batch loss: 4416.49\n",
      "Batch 900, mu: 2.762644052505493, logvar: -0.014871601946651936, training batch loss: 4767.47\n",
      "Batch 1000, mu: 2.83670711517334, logvar: 0.061541616916656494, training batch loss: 4725.77\n",
      "Batch 1100, mu: 2.2882978916168213, logvar: 0.042145464569330215, training batch loss: 4595.22\n",
      "Batch 1200, mu: 2.8382256031036377, logvar: 0.020793229341506958, training batch loss: 4694.26\n",
      "Batch 1300, mu: 2.476304531097412, logvar: 0.04272148385643959, training batch loss: 4616.97\n",
      "Batch 1400, mu: 2.7231061458587646, logvar: 0.006567463278770447, training batch loss: 4143.15\n",
      "Batch 1500, mu: 2.749366044998169, logvar: 0.022069912403821945, training batch loss: 4406.59\n",
      "Batch 1600, mu: 2.4122018814086914, logvar: 0.04737630486488342, training batch loss: 4559.14\n",
      "Batch 1700, mu: 2.5789451599121094, logvar: 0.0009937174618244171, training batch loss: 4255.67\n",
      "Batch 1800, mu: 2.560133457183838, logvar: 0.032078176736831665, training batch loss: 4371.24\n"
     ]
    },
    {
     "name": "stderr",
     "output_type": "stream",
     "text": [
      " 90%|█████████ | 9/10 [02:54<00:16, 16.34s/it]"
     ]
    },
    {
     "name": "stdout",
     "output_type": "stream",
     "text": [
      "Epoch: 8, Train Loss: 4570.880859375, Test Loss: 4555.12158203125\n"
     ]
    },
    {
     "name": "stderr",
     "output_type": "stream",
     "text": [
      "100%|██████████| 10/10 [03:09<00:00, 19.00s/it]"
     ]
    },
    {
     "name": "stdout",
     "output_type": "stream",
     "text": [
      "CPU times: user 2min 38s, sys: 12.8 s, total: 2min 51s\n",
      "Wall time: 3min 10s\n"
     ]
    },
    {
     "name": "stderr",
     "output_type": "stream",
     "text": [
      "\n"
     ]
    }
   ],
   "source": [
    "%%time\n",
    "\n",
    "from tqdm.auto import  tqdm\n",
    "\n",
    "epochs = 10\n",
    "batch_train_losses = []\n",
    "batch_test_losses = []\n",
    "\n",
    "convModel.to(device=device)\n",
    "\n",
    "for epoch in tqdm(range(epochs)):\n",
    "    model1.train()\n",
    "    train_losses = 0\n",
    "    test_losses = 0\n",
    "\n",
    "    for batch, (X, y) in enumerate(train_DataLoader):\n",
    "        X = X.to(device=device)\n",
    "\n",
    "        output, mu, logvar = convModel(X)\n",
    "        loss = loss_fn(output, X, mu, logvar)\n",
    "\n",
    "        train_losses += loss\n",
    "\n",
    "        loss.backward()\n",
    "        optimizer.step()\n",
    "        optimizer.zero_grad()\n",
    "\n",
    "        if batch%100==0 and epoch%2==0:\n",
    "            print(f\"Batch {batch}, mu: {mu.max()}, logvar: {logvar.max()}, training batch loss: {loss:.2f}\")\n",
    "\n",
    "    train_losses /= len(train_DataLoader)\n",
    "    batch_train_losses.append(train_losses)\n",
    "\n",
    "    convModel.eval()\n",
    "    with torch.inference_mode():\n",
    "        for X, y in test_DataLoader:\n",
    "            X = X.to(device=device)\n",
    "\n",
    "            output, mu, logvar = convModel(X)\n",
    "\n",
    "            loss = loss_fn(output, X, mu, logvar)\n",
    "            test_losses += loss\n",
    "\n",
    "        test_losses /= len(test_DataLoader)\n",
    "        batch_test_losses.append(test_losses)\n",
    "\n",
    "    if epoch%2 == 0:\n",
    "        print(f\"Epoch: {epoch}, Train Loss: {train_losses}, Test Loss: {test_losses}\")"
   ]
  },
  {
   "cell_type": "code",
   "execution_count": 23,
   "id": "a2178a43",
   "metadata": {},
   "outputs": [
    {
     "data": {
      "image/png": "[encoded data removed]",
      "text/plain": [
       "<Figure size 640x480 with 1 Axes>"
      ]
     },
     "metadata": {},
     "output_type": "display_data"
    }
   ],
   "source": [
    "plt.plot([i.item() for i in batch_train_losses], label=\"Train Loss\")\n",
    "plt.plot([i.item() for i in batch_test_losses], label=\"Test Loss\")\n",
    "\n",
    "plt.title(\"Train and Test loss for CONV model\")\n",
    "\n",
    "plt.legend()\n",
    "\n",
    "plt.show()"
   ]
  },
  {
   "cell_type": "code",
   "execution_count": 24,
   "id": "7092127d",
   "metadata": {},
   "outputs": [
    {
     "data": {
      "image/png": "[encoded data removed]",
      "text/plain": [
       "<Figure size 1200x300 with 16 Axes>"
      ]
     },
     "metadata": {},
     "output_type": "display_data"
    }
   ],
   "source": [
    "import matplotlib.pyplot as plt\n",
    "\n",
    "convModel.eval()\n",
    "with torch.no_grad():\n",
    "    x, _ = next(iter(train_DataLoader))\n",
    "    x = x.to(device)\n",
    "    x_hat_logits, _, _ = convModel(x)\n",
    "    x_hat = torch.sigmoid(x_hat_logits)\n",
    "    \n",
    "    fig, axes = plt.subplots(2, 8, figsize=(12, 3))\n",
    "    for i in range(8):\n",
    "        axes[0, i].imshow(x[i].view(28, 28).cpu(), cmap='gray')\n",
    "        axes[1, i].imshow(x_hat[i].view(28, 28).cpu(), cmap='gray')\n",
    "        axes[0, i].axis('off')\n",
    "        axes[1, i].axis('off')\n",
    "    axes[0, 0].set_title(\"Originals\")\n",
    "    axes[1, 0].set_title(\"Reconstructions - CONV VAE\")\n",
    "    plt.show()\n"
   ]
  },
  {
   "cell_type": "code",
   "execution_count": 25,
   "id": "7707a47b",
   "metadata": {},
   "outputs": [
    {
     "data": {
      "image/png": "[encoded data removed]",
      "text/plain": [
       "<Figure size 800x400 with 2 Axes>"
      ]
     },
     "metadata": {},
     "output_type": "display_data"
    }
   ],
   "source": [
    "convModel.eval()\n",
    "\n",
    "img = next(iter(test_DataLoader))[0]\n",
    "img = img.to(device=device)\n",
    "\n",
    "with torch.no_grad():\n",
    "    output, mu, logvar = convModel(img)\n",
    "\n",
    "output = torch.sigmoid(torch.reshape(input=output, shape=(32, 1, 28, 28)))\n",
    "\n",
    "fig, ax = plt.subplots(1, 2, figsize=(8, 4))\n",
    "\n",
    "ax[0].imshow(output.cpu().squeeze().numpy()[0], cmap='gray')\n",
    "ax[0].set_title(\"Linear VAE CONV Output\")\n",
    "ax[1].imshow(img.cpu().squeeze().numpy()[0], cmap='gray')\n",
    "ax[1].set_title(\"Actual image\")\n",
    "\n",
    "ax[0].axis(False)\n",
    "ax[1].axis(False)\n",
    "\n",
    "plt.show()"
   ]
  },
  {
   "cell_type": "markdown",
   "id": "e1aae237",
   "metadata": {},
   "source": [
    "Linear VAEs were better, or maybe we need more tuning to make this perform better."
   ]
  }
 ],
 "metadata": {
  "kernelspec": {
   "display_name": "silvercule",
   "language": "python",
   "name": "python3"
  },
  "language_info": {
   "codemirror_mode": {
    "name": "ipython",
    "version": 3
   },
   "file_extension": ".py",
   "mimetype": "text/x-python",
   "name": "python",
   "nbconvert_exporter": "python",
   "pygments_lexer": "ipython3",
   "version": "3.13.2"
  }
 },
 "nbformat": 4,
 "nbformat_minor": 5
}
